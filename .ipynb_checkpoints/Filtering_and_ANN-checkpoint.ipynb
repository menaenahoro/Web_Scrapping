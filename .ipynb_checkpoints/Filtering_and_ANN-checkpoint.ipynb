{
 "cells": [
  {
   "cell_type": "code",
   "execution_count": 1,
   "id": "f3649905",
   "metadata": {},
   "outputs": [],
   "source": [
    "import pandas as pd\n",
    "import numpy as np"
   ]
  },
  {
   "cell_type": "code",
   "execution_count": 2,
   "id": "201ecdd1",
   "metadata": {},
   "outputs": [
    {
     "data": {
      "text/html": [
       "<div>\n",
       "<style scoped>\n",
       "    .dataframe tbody tr th:only-of-type {\n",
       "        vertical-align: middle;\n",
       "    }\n",
       "\n",
       "    .dataframe tbody tr th {\n",
       "        vertical-align: top;\n",
       "    }\n",
       "\n",
       "    .dataframe thead th {\n",
       "        text-align: right;\n",
       "    }\n",
       "</style>\n",
       "<table border=\"1\" class=\"dataframe\">\n",
       "  <thead>\n",
       "    <tr style=\"text-align: right;\">\n",
       "      <th></th>\n",
       "      <th>Address</th>\n",
       "      <th>Amenities</th>\n",
       "      <th>description</th>\n",
       "      <th>price</th>\n",
       "    </tr>\n",
       "  </thead>\n",
       "  <tbody>\n",
       "    <tr>\n",
       "      <th>0</th>\n",
       "      <td>Lovojo Estate Lekki Schemes 2, Ajah</td>\n",
       "      <td>4 4</td>\n",
       "      <td>4 Units Of 4 Bedroom Terraces Smart House</td>\n",
       "      <td>N45,000,000</td>\n",
       "    </tr>\n",
       "    <tr>\n",
       "      <th>1</th>\n",
       "      <td>Ogombo Road; Opposite Urban Prime Three, Abrah...</td>\n",
       "      <td>3 3</td>\n",
       "      <td>Classic 3 Bedroom Terrace House</td>\n",
       "      <td>N55,000,000</td>\n",
       "    </tr>\n",
       "    <tr>\n",
       "      <th>2</th>\n",
       "      <td>Ajiwe Bus Stop, By Abraham Adesanya Roundabout...</td>\n",
       "      <td>2 2</td>\n",
       "      <td>Lovely 2 &amp; 3 Terrace Duplex With Bq</td>\n",
       "      <td>N38,000,000</td>\n",
       "    </tr>\n",
       "    <tr>\n",
       "      <th>3</th>\n",
       "      <td>Lavadia Series 2, Ogombo, Ajah</td>\n",
       "      <td>3 3</td>\n",
       "      <td>3 Bedroom Terrace + Standard Bq</td>\n",
       "      <td>N65,000,000</td>\n",
       "    </tr>\n",
       "    <tr>\n",
       "      <th>4</th>\n",
       "      <td>Banana Island, Ikoyi, Banana Island, Ikoyi</td>\n",
       "      <td>7 7 320 m² 600 m²</td>\n",
       "      <td>Luxuriously Built Waterfront Detached Home For...</td>\n",
       "      <td>N850,000,000</td>\n",
       "    </tr>\n",
       "  </tbody>\n",
       "</table>\n",
       "</div>"
      ],
      "text/plain": [
       "                                             Address          Amenities  \\\n",
       "0                Lovojo Estate Lekki Schemes 2, Ajah                4 4   \n",
       "1  Ogombo Road; Opposite Urban Prime Three, Abrah...                3 3   \n",
       "2  Ajiwe Bus Stop, By Abraham Adesanya Roundabout...                2 2   \n",
       "3                     Lavadia Series 2, Ogombo, Ajah                3 3   \n",
       "4         Banana Island, Ikoyi, Banana Island, Ikoyi  7 7 320 m² 600 m²   \n",
       "\n",
       "                                         description         price  \n",
       "0          4 Units Of 4 Bedroom Terraces Smart House   N45,000,000  \n",
       "1                    Classic 3 Bedroom Terrace House   N55,000,000  \n",
       "2                Lovely 2 & 3 Terrace Duplex With Bq   N38,000,000  \n",
       "3                    3 Bedroom Terrace + Standard Bq   N65,000,000  \n",
       "4  Luxuriously Built Waterfront Detached Home For...  N850,000,000  "
      ]
     },
     "execution_count": 2,
     "metadata": {},
     "output_type": "execute_result"
    }
   ],
   "source": [
    "data = pd.read_csv(\"web_scrp_data.csv\", index_col=0)\n",
    "data.head()"
   ]
  },
  {
   "cell_type": "code",
   "execution_count": null,
   "id": "114c8821",
   "metadata": {},
   "outputs": [],
   "source": []
  }
 ],
 "metadata": {
  "kernelspec": {
   "display_name": "Python 3",
   "language": "python",
   "name": "python3"
  },
  "language_info": {
   "codemirror_mode": {
    "name": "ipython",
    "version": 3
   },
   "file_extension": ".py",
   "mimetype": "text/x-python",
   "name": "python",
   "nbconvert_exporter": "python",
   "pygments_lexer": "ipython3",
   "version": "3.7.10"
  }
 },
 "nbformat": 4,
 "nbformat_minor": 5
}
