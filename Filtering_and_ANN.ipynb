{
 "cells": [
  {
   "cell_type": "code",
   "execution_count": 1,
   "id": "f3649905",
   "metadata": {},
   "outputs": [],
   "source": [
    "import pandas as pd\n",
    "import numpy as np"
   ]
  },
  {
   "cell_type": "code",
   "execution_count": 2,
   "id": "201ecdd1",
   "metadata": {},
   "outputs": [
    {
     "data": {
      "text/html": [
       "<div>\n",
       "<style scoped>\n",
       "    .dataframe tbody tr th:only-of-type {\n",
       "        vertical-align: middle;\n",
       "    }\n",
       "\n",
       "    .dataframe tbody tr th {\n",
       "        vertical-align: top;\n",
       "    }\n",
       "\n",
       "    .dataframe thead th {\n",
       "        text-align: right;\n",
       "    }\n",
       "</style>\n",
       "<table border=\"1\" class=\"dataframe\">\n",
       "  <thead>\n",
       "    <tr style=\"text-align: right;\">\n",
       "      <th></th>\n",
       "      <th>Address</th>\n",
       "      <th>Amenities</th>\n",
       "      <th>description</th>\n",
       "      <th>price</th>\n",
       "    </tr>\n",
       "  </thead>\n",
       "  <tbody>\n",
       "    <tr>\n",
       "      <th>0</th>\n",
       "      <td>Lovojo Estate Lekki Schemes 2, Ajah</td>\n",
       "      <td>4 4</td>\n",
       "      <td>4 Units Of 4 Bedroom Terraces Smart House</td>\n",
       "      <td>N45,000,000</td>\n",
       "    </tr>\n",
       "    <tr>\n",
       "      <th>1</th>\n",
       "      <td>Ogombo Road; Opposite Urban Prime Three, Abrah...</td>\n",
       "      <td>3 3</td>\n",
       "      <td>Classic 3 Bedroom Terrace House</td>\n",
       "      <td>N55,000,000</td>\n",
       "    </tr>\n",
       "    <tr>\n",
       "      <th>2</th>\n",
       "      <td>Ajiwe Bus Stop, By Abraham Adesanya Roundabout...</td>\n",
       "      <td>2 2</td>\n",
       "      <td>Lovely 2 &amp; 3 Terrace Duplex With Bq</td>\n",
       "      <td>N38,000,000</td>\n",
       "    </tr>\n",
       "    <tr>\n",
       "      <th>3</th>\n",
       "      <td>Lavadia Series 2, Ogombo, Ajah</td>\n",
       "      <td>3 3</td>\n",
       "      <td>3 Bedroom Terrace + Standard Bq</td>\n",
       "      <td>N65,000,000</td>\n",
       "    </tr>\n",
       "    <tr>\n",
       "      <th>4</th>\n",
       "      <td>Banana Island, Ikoyi, Banana Island, Ikoyi</td>\n",
       "      <td>7 7 320 m² 600 m²</td>\n",
       "      <td>Luxuriously Built Waterfront Detached Home For...</td>\n",
       "      <td>N850,000,000</td>\n",
       "    </tr>\n",
       "  </tbody>\n",
       "</table>\n",
       "</div>"
      ],
      "text/plain": [
       "                                             Address          Amenities  \\\n",
       "0                Lovojo Estate Lekki Schemes 2, Ajah                4 4   \n",
       "1  Ogombo Road; Opposite Urban Prime Three, Abrah...                3 3   \n",
       "2  Ajiwe Bus Stop, By Abraham Adesanya Roundabout...                2 2   \n",
       "3                     Lavadia Series 2, Ogombo, Ajah                3 3   \n",
       "4         Banana Island, Ikoyi, Banana Island, Ikoyi  7 7 320 m² 600 m²   \n",
       "\n",
       "                                         description         price  \n",
       "0          4 Units Of 4 Bedroom Terraces Smart House   N45,000,000  \n",
       "1                    Classic 3 Bedroom Terrace House   N55,000,000  \n",
       "2                Lovely 2 & 3 Terrace Duplex With Bq   N38,000,000  \n",
       "3                    3 Bedroom Terrace + Standard Bq   N65,000,000  \n",
       "4  Luxuriously Built Waterfront Detached Home For...  N850,000,000  "
      ]
     },
     "execution_count": 2,
     "metadata": {},
     "output_type": "execute_result"
    }
   ],
   "source": [
    "data = pd.read_csv(\"web_scrp_data.csv\", index_col=0)\n",
    "data.head()"
   ]
  },
  {
   "cell_type": "code",
   "execution_count": 3,
   "id": "114c8821",
   "metadata": {},
   "outputs": [
    {
     "data": {
      "text/plain": [
       "4 Bedroom Detached Duplex                                                                          11\n",
       "5 bedroom detached duplex with BQ                                                                  10\n",
       "5 Bedroom Detached Duplex                                                                           7\n",
       "4 Bedroom Fully Detached Duplex With Bq                                                             5\n",
       "Newly Built 4 Bedroom Detached Duplex With Bq For Sale                                              5\n",
       "                                                                                                   ..\n",
       "Newly built 3Bedroom Terrace Duplex with BQ                                                         1\n",
       "FOR SALE: 5 BEDROOM FULLY DETACHED DUPLEX WITH SWIMMING POOL AND CINEMA At Lekki Phase 1, Lagos     1\n",
       "New Built 4 Bedroom Semi Detached Duplex                                                            1\n",
       "Luxury 4 bedroom terrace                                                                            1\n",
       "Newly built state of the art 4 bedroom terrace duplex                                               1\n",
       "Name: description, Length: 186, dtype: int64"
      ]
     },
     "execution_count": 3,
     "metadata": {},
     "output_type": "execute_result"
    }
   ],
   "source": [
    "data.description.value_counts()"
   ]
  },
  {
   "cell_type": "code",
   "execution_count": 4,
   "id": "96340013",
   "metadata": {},
   "outputs": [],
   "source": [
    "def check_null(i):\n",
    "    check = pd.isna(data[i]).value_counts()\n",
    "    print('------'*19)\n",
    "    print(i)\n",
    "    print(check)"
   ]
  },
  {
   "cell_type": "code",
   "execution_count": 9,
   "id": "ee1c0453",
   "metadata": {},
   "outputs": [
    {
     "name": "stdout",
     "output_type": "stream",
     "text": [
      "------------------------------------------------------------------------------------------------------------------\n",
      "Address\n",
      "False    300\n",
      "Name: Address, dtype: int64\n",
      "------------------------------------------------------------------------------------------------------------------\n",
      "Amenities\n",
      "False    300\n",
      "Name: Amenities, dtype: int64\n",
      "------------------------------------------------------------------------------------------------------------------\n",
      "description\n",
      "False    300\n",
      "Name: description, dtype: int64\n",
      "------------------------------------------------------------------------------------------------------------------\n",
      "price\n",
      "False    300\n",
      "Name: price, dtype: int64\n",
      "------------------------------------------------------------------------------------------------------------------\n",
      "bedroom\n",
      "False    300\n",
      "Name: bedroom, dtype: int64\n"
     ]
    }
   ],
   "source": [
    "for i in data:\n",
    "    check_null(i)"
   ]
  },
  {
   "cell_type": "code",
   "execution_count": 10,
   "id": "fdb43c94",
   "metadata": {},
   "outputs": [],
   "source": [
    "def bedroom(A):\n",
    "    A.split(' ')\n",
    "    return A[0]"
   ]
  },
  {
   "cell_type": "code",
   "execution_count": 11,
   "id": "0715a619",
   "metadata": {},
   "outputs": [],
   "source": [
    "def bathroom(B):\n",
    "    B.split(' ')\n",
    "    return B[2]"
   ]
  },
  {
   "cell_type": "code",
   "execution_count": 12,
   "id": "abdc79a5",
   "metadata": {
    "scrolled": true
   },
   "outputs": [
    {
     "data": {
      "text/plain": [
       "0      4\n",
       "1      3\n",
       "2      2\n",
       "3      3\n",
       "4      7\n",
       "      ..\n",
       "295    4\n",
       "296    5\n",
       "297    4\n",
       "298    3\n",
       "299    5\n",
       "Name: bedroom, Length: 300, dtype: object"
      ]
     },
     "execution_count": 12,
     "metadata": {},
     "output_type": "execute_result"
    }
   ],
   "source": [
    "data['bedroom'] = data.apply(lambda row: bedroom(row['Amenities']), axis=1)\n",
    "data['bedroom']"
   ]
  },
  {
   "cell_type": "code",
   "execution_count": 13,
   "id": "56768b49",
   "metadata": {
    "scrolled": true
   },
   "outputs": [
    {
     "data": {
      "text/plain": [
       "0      4\n",
       "1      3\n",
       "2      2\n",
       "3      3\n",
       "4      7\n",
       "      ..\n",
       "295    4\n",
       "296    5\n",
       "297    4\n",
       "298    3\n",
       "299    5\n",
       "Name: bathroom/toilet, Length: 300, dtype: object"
      ]
     },
     "execution_count": 13,
     "metadata": {},
     "output_type": "execute_result"
    }
   ],
   "source": [
    "data['bathroom/toilet'] = data.apply(lambda row: bathroom(row['Amenities']), axis=1)\n",
    "data['bathroom/toilet']"
   ]
  },
  {
   "cell_type": "code",
   "execution_count": 14,
   "id": "f2c48443",
   "metadata": {},
   "outputs": [
    {
     "data": {
      "text/html": [
       "<div>\n",
       "<style scoped>\n",
       "    .dataframe tbody tr th:only-of-type {\n",
       "        vertical-align: middle;\n",
       "    }\n",
       "\n",
       "    .dataframe tbody tr th {\n",
       "        vertical-align: top;\n",
       "    }\n",
       "\n",
       "    .dataframe thead th {\n",
       "        text-align: right;\n",
       "    }\n",
       "</style>\n",
       "<table border=\"1\" class=\"dataframe\">\n",
       "  <thead>\n",
       "    <tr style=\"text-align: right;\">\n",
       "      <th></th>\n",
       "      <th>Address</th>\n",
       "      <th>Amenities</th>\n",
       "      <th>description</th>\n",
       "      <th>price</th>\n",
       "      <th>bedroom</th>\n",
       "      <th>bathroom/toilet</th>\n",
       "    </tr>\n",
       "  </thead>\n",
       "  <tbody>\n",
       "    <tr>\n",
       "      <th>0</th>\n",
       "      <td>Lovojo Estate Lekki Schemes 2, Ajah</td>\n",
       "      <td>4 4</td>\n",
       "      <td>4 Units Of 4 Bedroom Terraces Smart House</td>\n",
       "      <td>N45,000,000</td>\n",
       "      <td>4</td>\n",
       "      <td>4</td>\n",
       "    </tr>\n",
       "    <tr>\n",
       "      <th>1</th>\n",
       "      <td>Ogombo Road; Opposite Urban Prime Three, Abrah...</td>\n",
       "      <td>3 3</td>\n",
       "      <td>Classic 3 Bedroom Terrace House</td>\n",
       "      <td>N55,000,000</td>\n",
       "      <td>3</td>\n",
       "      <td>3</td>\n",
       "    </tr>\n",
       "    <tr>\n",
       "      <th>2</th>\n",
       "      <td>Ajiwe Bus Stop, By Abraham Adesanya Roundabout...</td>\n",
       "      <td>2 2</td>\n",
       "      <td>Lovely 2 &amp; 3 Terrace Duplex With Bq</td>\n",
       "      <td>N38,000,000</td>\n",
       "      <td>2</td>\n",
       "      <td>2</td>\n",
       "    </tr>\n",
       "    <tr>\n",
       "      <th>3</th>\n",
       "      <td>Lavadia Series 2, Ogombo, Ajah</td>\n",
       "      <td>3 3</td>\n",
       "      <td>3 Bedroom Terrace + Standard Bq</td>\n",
       "      <td>N65,000,000</td>\n",
       "      <td>3</td>\n",
       "      <td>3</td>\n",
       "    </tr>\n",
       "    <tr>\n",
       "      <th>4</th>\n",
       "      <td>Banana Island, Ikoyi, Banana Island, Ikoyi</td>\n",
       "      <td>7 7 320 m² 600 m²</td>\n",
       "      <td>Luxuriously Built Waterfront Detached Home For...</td>\n",
       "      <td>N850,000,000</td>\n",
       "      <td>7</td>\n",
       "      <td>7</td>\n",
       "    </tr>\n",
       "    <tr>\n",
       "      <th>...</th>\n",
       "      <td>...</td>\n",
       "      <td>...</td>\n",
       "      <td>...</td>\n",
       "      <td>...</td>\n",
       "      <td>...</td>\n",
       "      <td>...</td>\n",
       "    </tr>\n",
       "    <tr>\n",
       "      <th>295</th>\n",
       "      <td>Buena Vista Estate Off Orchid Road, Chevron Dr...</td>\n",
       "      <td>4 4</td>\n",
       "      <td>Four (4) bedroom fully detached duplex with a ...</td>\n",
       "      <td>N75,000,000</td>\n",
       "      <td>4</td>\n",
       "      <td>4</td>\n",
       "    </tr>\n",
       "    <tr>\n",
       "      <th>296</th>\n",
       "      <td>Chevron Drive, Lekki</td>\n",
       "      <td>5 5</td>\n",
       "      <td>5 Bedrooms Fully Detached Duplex with BQ for s...</td>\n",
       "      <td>N160,000,000</td>\n",
       "      <td>5</td>\n",
       "      <td>5</td>\n",
       "    </tr>\n",
       "    <tr>\n",
       "      <th>297</th>\n",
       "      <td>Behind Chevron Head Office Lekki, Chevron Driv...</td>\n",
       "      <td>4 4</td>\n",
       "      <td>Brand New 4 Bedroom Duplex With Driveway</td>\n",
       "      <td>N85,000,000</td>\n",
       "      <td>4</td>\n",
       "      <td>4</td>\n",
       "    </tr>\n",
       "    <tr>\n",
       "      <th>298</th>\n",
       "      <td>Megamond Estate, Ikota, Lekki</td>\n",
       "      <td>3 3</td>\n",
       "      <td>3 Bedroom Terrace Duplex With Bq</td>\n",
       "      <td>N50,000,000</td>\n",
       "      <td>3</td>\n",
       "      <td>3</td>\n",
       "    </tr>\n",
       "    <tr>\n",
       "      <th>299</th>\n",
       "      <td>Chevyview Estate, Chevron Drive, Lekki</td>\n",
       "      <td>5 5</td>\n",
       "      <td>Spacious 5 Bedroom Fully Detached Duplex with ...</td>\n",
       "      <td>N83,000,000</td>\n",
       "      <td>5</td>\n",
       "      <td>5</td>\n",
       "    </tr>\n",
       "  </tbody>\n",
       "</table>\n",
       "<p>300 rows × 6 columns</p>\n",
       "</div>"
      ],
      "text/plain": [
       "                                               Address          Amenities  \\\n",
       "0                  Lovojo Estate Lekki Schemes 2, Ajah                4 4   \n",
       "1    Ogombo Road; Opposite Urban Prime Three, Abrah...                3 3   \n",
       "2    Ajiwe Bus Stop, By Abraham Adesanya Roundabout...                2 2   \n",
       "3                       Lavadia Series 2, Ogombo, Ajah                3 3   \n",
       "4           Banana Island, Ikoyi, Banana Island, Ikoyi  7 7 320 m² 600 m²   \n",
       "..                                                 ...                ...   \n",
       "295  Buena Vista Estate Off Orchid Road, Chevron Dr...                4 4   \n",
       "296                               Chevron Drive, Lekki                5 5   \n",
       "297  Behind Chevron Head Office Lekki, Chevron Driv...                4 4   \n",
       "298                      Megamond Estate, Ikota, Lekki                3 3   \n",
       "299             Chevyview Estate, Chevron Drive, Lekki                5 5   \n",
       "\n",
       "                                           description         price bedroom  \\\n",
       "0            4 Units Of 4 Bedroom Terraces Smart House   N45,000,000       4   \n",
       "1                      Classic 3 Bedroom Terrace House   N55,000,000       3   \n",
       "2                  Lovely 2 & 3 Terrace Duplex With Bq   N38,000,000       2   \n",
       "3                      3 Bedroom Terrace + Standard Bq   N65,000,000       3   \n",
       "4    Luxuriously Built Waterfront Detached Home For...  N850,000,000       7   \n",
       "..                                                 ...           ...     ...   \n",
       "295  Four (4) bedroom fully detached duplex with a ...   N75,000,000       4   \n",
       "296  5 Bedrooms Fully Detached Duplex with BQ for s...  N160,000,000       5   \n",
       "297           Brand New 4 Bedroom Duplex With Driveway   N85,000,000       4   \n",
       "298                   3 Bedroom Terrace Duplex With Bq   N50,000,000       3   \n",
       "299  Spacious 5 Bedroom Fully Detached Duplex with ...   N83,000,000       5   \n",
       "\n",
       "    bathroom/toilet  \n",
       "0                 4  \n",
       "1                 3  \n",
       "2                 2  \n",
       "3                 3  \n",
       "4                 7  \n",
       "..              ...  \n",
       "295               4  \n",
       "296               5  \n",
       "297               4  \n",
       "298               3  \n",
       "299               5  \n",
       "\n",
       "[300 rows x 6 columns]"
      ]
     },
     "execution_count": 14,
     "metadata": {},
     "output_type": "execute_result"
    }
   ],
   "source": [
    "data"
   ]
  },
  {
   "cell_type": "code",
   "execution_count": 15,
   "id": "d59a7610",
   "metadata": {},
   "outputs": [],
   "source": [
    "def sep_word(A):\n",
    "        ban = A.split(\",\")\n",
    "        return str(ban[-1])"
   ]
  },
  {
   "cell_type": "code",
   "execution_count": 16,
   "id": "cf238e71",
   "metadata": {
    "scrolled": true
   },
   "outputs": [
    {
     "data": {
      "text/plain": [
       "0        Ajah\n",
       "1        Ajah\n",
       "2        Ajah\n",
       "3        Ajah\n",
       "4       Ikoyi\n",
       "        ...  \n",
       "295     Lekki\n",
       "296     Lekki\n",
       "297     Lekki\n",
       "298     Lekki\n",
       "299     Lekki\n",
       "Name: location, Length: 300, dtype: object"
      ]
     },
     "execution_count": 16,
     "metadata": {},
     "output_type": "execute_result"
    }
   ],
   "source": [
    "data['location'] = data.apply(lambda row: sep_word(row['Address']), axis=1)\n",
    "data['location']"
   ]
  },
  {
   "cell_type": "code",
   "execution_count": 17,
   "id": "9948d967",
   "metadata": {},
   "outputs": [],
   "source": [
    "# Remove the first and end spaces\n",
    "def remove_first_end_spaces(string):\n",
    "    return \"\".join(string.rstrip().lstrip())\n",
    "\n",
    "data['location'] = data.apply(lambda row: remove_first_end_spaces(row['location']), axis=1)\n"
   ]
  },
  {
   "cell_type": "code",
   "execution_count": 18,
   "id": "1ac6ad2f",
   "metadata": {
    "scrolled": true
   },
   "outputs": [
    {
     "data": {
      "text/plain": [
       "Lekki              207\n",
       "Ajah                46\n",
       "Ikoyi               33\n",
       "Victoria Island      7\n",
       "Ikeja                3\n",
       "Ketu                 2\n",
       "Ikorodu Road         1\n",
       "Surulere             1\n",
       "Name: location, dtype: int64"
      ]
     },
     "execution_count": 18,
     "metadata": {},
     "output_type": "execute_result"
    }
   ],
   "source": [
    "data['location'].value_counts()"
   ]
  },
  {
   "cell_type": "code",
   "execution_count": 19,
   "id": "71026d36",
   "metadata": {},
   "outputs": [],
   "source": [
    "data['Area'] = np.nan"
   ]
  },
  {
   "cell_type": "code",
   "execution_count": 20,
   "id": "b58647de",
   "metadata": {
    "scrolled": false
   },
   "outputs": [
    {
     "name": "stderr",
     "output_type": "stream",
     "text": [
      "//anaconda3/envs/new2/lib/python3.7/site-packages/ipykernel_launcher.py:7: SettingWithCopyWarning: \n",
      "A value is trying to be set on a copy of a slice from a DataFrame\n",
      "\n",
      "See the caveats in the documentation: https://pandas.pydata.org/pandas-docs/stable/user_guide/indexing.html#returning-a-view-versus-a-copy\n",
      "  import sys\n",
      "/Users/enahoro/.local/lib/python3.7/site-packages/pandas/core/indexing.py:671: SettingWithCopyWarning: \n",
      "A value is trying to be set on a copy of a slice from a DataFrame\n",
      "\n",
      "See the caveats in the documentation: https://pandas.pydata.org/pandas-docs/stable/user_guide/indexing.html#returning-a-view-versus-a-copy\n",
      "  self._setitem_with_indexer(indexer, value)\n"
     ]
    }
   ],
   "source": [
    "for i in range(len(data['location'])):\n",
    "    if data['location'][i]=='Lekki':\n",
    "        lek = data['Address'][i]\n",
    "        barn = lek.split(\",\")\n",
    "        data['Area'][i] = barn[-2]\n",
    "    else:\n",
    "        data['Area'][i] = data['location'][i]"
   ]
  },
  {
   "cell_type": "code",
   "execution_count": null,
   "id": "fd36038e",
   "metadata": {},
   "outputs": [],
   "source": [
    "for i in range(len(data['location'])):\n",
    "    if data['location'][i]=='Lekki':\n",
    "        lek = data['Address'][i]\n",
    "        barn = lek.split(\",\")\n",
    "        data['Area'][i] = barn[-2]\n",
    "    elif data['location'][i]=='Ajah':\n",
    "        try:\n",
    "            lek = data['Address'][i]\n",
    "            barn = lek.split(\",\")\n",
    "            data['Area'][i] = barn[-2]\n",
    "        except:\n",
    "            data['Area'][i] = np.nan\n",
    "    else:\n",
    "        data['Area'][i] = data['location'][i]"
   ]
  },
  {
   "cell_type": "code",
   "execution_count": 21,
   "id": "6abe9cc8",
   "metadata": {
    "scrolled": false
   },
   "outputs": [
    {
     "data": {
      "text/plain": [
       " Ikota                   54\n",
       "Ajah                     46\n",
       " Chevron Drive           45\n",
       "Ikoyi                    33\n",
       " Ikate Elegushi          20\n",
       "Ikota                    19\n",
       " Lekki Expressway        16\n",
       "Victoria Island           7\n",
       " Lekki Phase 2            7\n",
       " Idado                    5\n",
       "Ologolo                   5\n",
       "Osapa                     5\n",
       "Idado                     5\n",
       "Lekki Phase 1             5\n",
       "Chevron Drive             4\n",
       " Lekki Phase 1            4\n",
       "Agungi                    4\n",
       "Ikeja                     3\n",
       " Osapa                    3\n",
       "Ketu                      2\n",
       " Agungi                   2\n",
       " Lafiaji                  2\n",
       "Ikorodu Road              1\n",
       "Surulere                  1\n",
       " Ologolo                  1\n",
       " Victoria Garden City     1\n",
       "Name: Area, dtype: int64"
      ]
     },
     "execution_count": 21,
     "metadata": {},
     "output_type": "execute_result"
    }
   ],
   "source": [
    "data['Area'].value_counts()"
   ]
  },
  {
   "cell_type": "code",
   "execution_count": 22,
   "id": "743f1bef",
   "metadata": {
    "scrolled": true
   },
   "outputs": [
    {
     "data": {
      "text/plain": [
       "Ikota                   73\n",
       "Chevron Drive           49\n",
       "Ajah                    46\n",
       "Ikoyi                   33\n",
       "Ikate Elegushi          20\n",
       "Lekki Expressway        16\n",
       "Idado                   10\n",
       "Lekki Phase 1            9\n",
       "Osapa                    8\n",
       "Lekki Phase 2            7\n",
       "Victoria Island          7\n",
       "Agungi                   6\n",
       "Ologolo                  6\n",
       "Ikeja                    3\n",
       "Ketu                     2\n",
       "Lafiaji                  2\n",
       "Victoria Garden City     1\n",
       "Ikorodu Road             1\n",
       "Surulere                 1\n",
       "Name: Area, dtype: int64"
      ]
     },
     "execution_count": 22,
     "metadata": {},
     "output_type": "execute_result"
    }
   ],
   "source": [
    "# Remove the first and end spaces\n",
    "data['Area'] = data.apply(lambda row: remove_first_end_spaces(row['Area']), axis=1)\n",
    "data['Area'].value_counts()\n"
   ]
  },
  {
   "cell_type": "code",
   "execution_count": 23,
   "id": "9011ac0c",
   "metadata": {},
   "outputs": [
    {
     "data": {
      "text/html": [
       "<div>\n",
       "<style scoped>\n",
       "    .dataframe tbody tr th:only-of-type {\n",
       "        vertical-align: middle;\n",
       "    }\n",
       "\n",
       "    .dataframe tbody tr th {\n",
       "        vertical-align: top;\n",
       "    }\n",
       "\n",
       "    .dataframe thead th {\n",
       "        text-align: right;\n",
       "    }\n",
       "</style>\n",
       "<table border=\"1\" class=\"dataframe\">\n",
       "  <thead>\n",
       "    <tr style=\"text-align: right;\">\n",
       "      <th></th>\n",
       "      <th>Address</th>\n",
       "      <th>Amenities</th>\n",
       "      <th>description</th>\n",
       "      <th>price</th>\n",
       "      <th>bedroom</th>\n",
       "      <th>bathroom/toilet</th>\n",
       "      <th>location</th>\n",
       "      <th>Area</th>\n",
       "    </tr>\n",
       "  </thead>\n",
       "  <tbody>\n",
       "    <tr>\n",
       "      <th>0</th>\n",
       "      <td>Lovojo Estate Lekki Schemes 2, Ajah</td>\n",
       "      <td>4 4</td>\n",
       "      <td>4 Units Of 4 Bedroom Terraces Smart House</td>\n",
       "      <td>N45,000,000</td>\n",
       "      <td>4</td>\n",
       "      <td>4</td>\n",
       "      <td>Ajah</td>\n",
       "      <td>Ajah</td>\n",
       "    </tr>\n",
       "    <tr>\n",
       "      <th>1</th>\n",
       "      <td>Ogombo Road; Opposite Urban Prime Three, Abrah...</td>\n",
       "      <td>3 3</td>\n",
       "      <td>Classic 3 Bedroom Terrace House</td>\n",
       "      <td>N55,000,000</td>\n",
       "      <td>3</td>\n",
       "      <td>3</td>\n",
       "      <td>Ajah</td>\n",
       "      <td>Ajah</td>\n",
       "    </tr>\n",
       "    <tr>\n",
       "      <th>2</th>\n",
       "      <td>Ajiwe Bus Stop, By Abraham Adesanya Roundabout...</td>\n",
       "      <td>2 2</td>\n",
       "      <td>Lovely 2 &amp; 3 Terrace Duplex With Bq</td>\n",
       "      <td>N38,000,000</td>\n",
       "      <td>2</td>\n",
       "      <td>2</td>\n",
       "      <td>Ajah</td>\n",
       "      <td>Ajah</td>\n",
       "    </tr>\n",
       "    <tr>\n",
       "      <th>3</th>\n",
       "      <td>Lavadia Series 2, Ogombo, Ajah</td>\n",
       "      <td>3 3</td>\n",
       "      <td>3 Bedroom Terrace + Standard Bq</td>\n",
       "      <td>N65,000,000</td>\n",
       "      <td>3</td>\n",
       "      <td>3</td>\n",
       "      <td>Ajah</td>\n",
       "      <td>Ajah</td>\n",
       "    </tr>\n",
       "    <tr>\n",
       "      <th>4</th>\n",
       "      <td>Banana Island, Ikoyi, Banana Island, Ikoyi</td>\n",
       "      <td>7 7 320 m² 600 m²</td>\n",
       "      <td>Luxuriously Built Waterfront Detached Home For...</td>\n",
       "      <td>N850,000,000</td>\n",
       "      <td>7</td>\n",
       "      <td>7</td>\n",
       "      <td>Ikoyi</td>\n",
       "      <td>Ikoyi</td>\n",
       "    </tr>\n",
       "    <tr>\n",
       "      <th>...</th>\n",
       "      <td>...</td>\n",
       "      <td>...</td>\n",
       "      <td>...</td>\n",
       "      <td>...</td>\n",
       "      <td>...</td>\n",
       "      <td>...</td>\n",
       "      <td>...</td>\n",
       "      <td>...</td>\n",
       "    </tr>\n",
       "    <tr>\n",
       "      <th>295</th>\n",
       "      <td>Buena Vista Estate Off Orchid Road, Chevron Dr...</td>\n",
       "      <td>4 4</td>\n",
       "      <td>Four (4) bedroom fully detached duplex with a ...</td>\n",
       "      <td>N75,000,000</td>\n",
       "      <td>4</td>\n",
       "      <td>4</td>\n",
       "      <td>Lekki</td>\n",
       "      <td>Chevron Drive</td>\n",
       "    </tr>\n",
       "    <tr>\n",
       "      <th>296</th>\n",
       "      <td>Chevron Drive, Lekki</td>\n",
       "      <td>5 5</td>\n",
       "      <td>5 Bedrooms Fully Detached Duplex with BQ for s...</td>\n",
       "      <td>N160,000,000</td>\n",
       "      <td>5</td>\n",
       "      <td>5</td>\n",
       "      <td>Lekki</td>\n",
       "      <td>Chevron Drive</td>\n",
       "    </tr>\n",
       "    <tr>\n",
       "      <th>297</th>\n",
       "      <td>Behind Chevron Head Office Lekki, Chevron Driv...</td>\n",
       "      <td>4 4</td>\n",
       "      <td>Brand New 4 Bedroom Duplex With Driveway</td>\n",
       "      <td>N85,000,000</td>\n",
       "      <td>4</td>\n",
       "      <td>4</td>\n",
       "      <td>Lekki</td>\n",
       "      <td>Chevron Drive</td>\n",
       "    </tr>\n",
       "    <tr>\n",
       "      <th>298</th>\n",
       "      <td>Megamond Estate, Ikota, Lekki</td>\n",
       "      <td>3 3</td>\n",
       "      <td>3 Bedroom Terrace Duplex With Bq</td>\n",
       "      <td>N50,000,000</td>\n",
       "      <td>3</td>\n",
       "      <td>3</td>\n",
       "      <td>Lekki</td>\n",
       "      <td>Ikota</td>\n",
       "    </tr>\n",
       "    <tr>\n",
       "      <th>299</th>\n",
       "      <td>Chevyview Estate, Chevron Drive, Lekki</td>\n",
       "      <td>5 5</td>\n",
       "      <td>Spacious 5 Bedroom Fully Detached Duplex with ...</td>\n",
       "      <td>N83,000,000</td>\n",
       "      <td>5</td>\n",
       "      <td>5</td>\n",
       "      <td>Lekki</td>\n",
       "      <td>Chevron Drive</td>\n",
       "    </tr>\n",
       "  </tbody>\n",
       "</table>\n",
       "<p>300 rows × 8 columns</p>\n",
       "</div>"
      ],
      "text/plain": [
       "                                               Address          Amenities  \\\n",
       "0                  Lovojo Estate Lekki Schemes 2, Ajah                4 4   \n",
       "1    Ogombo Road; Opposite Urban Prime Three, Abrah...                3 3   \n",
       "2    Ajiwe Bus Stop, By Abraham Adesanya Roundabout...                2 2   \n",
       "3                       Lavadia Series 2, Ogombo, Ajah                3 3   \n",
       "4           Banana Island, Ikoyi, Banana Island, Ikoyi  7 7 320 m² 600 m²   \n",
       "..                                                 ...                ...   \n",
       "295  Buena Vista Estate Off Orchid Road, Chevron Dr...                4 4   \n",
       "296                               Chevron Drive, Lekki                5 5   \n",
       "297  Behind Chevron Head Office Lekki, Chevron Driv...                4 4   \n",
       "298                      Megamond Estate, Ikota, Lekki                3 3   \n",
       "299             Chevyview Estate, Chevron Drive, Lekki                5 5   \n",
       "\n",
       "                                           description         price bedroom  \\\n",
       "0            4 Units Of 4 Bedroom Terraces Smart House   N45,000,000       4   \n",
       "1                      Classic 3 Bedroom Terrace House   N55,000,000       3   \n",
       "2                  Lovely 2 & 3 Terrace Duplex With Bq   N38,000,000       2   \n",
       "3                      3 Bedroom Terrace + Standard Bq   N65,000,000       3   \n",
       "4    Luxuriously Built Waterfront Detached Home For...  N850,000,000       7   \n",
       "..                                                 ...           ...     ...   \n",
       "295  Four (4) bedroom fully detached duplex with a ...   N75,000,000       4   \n",
       "296  5 Bedrooms Fully Detached Duplex with BQ for s...  N160,000,000       5   \n",
       "297           Brand New 4 Bedroom Duplex With Driveway   N85,000,000       4   \n",
       "298                   3 Bedroom Terrace Duplex With Bq   N50,000,000       3   \n",
       "299  Spacious 5 Bedroom Fully Detached Duplex with ...   N83,000,000       5   \n",
       "\n",
       "    bathroom/toilet location           Area  \n",
       "0                 4     Ajah           Ajah  \n",
       "1                 3     Ajah           Ajah  \n",
       "2                 2     Ajah           Ajah  \n",
       "3                 3     Ajah           Ajah  \n",
       "4                 7    Ikoyi          Ikoyi  \n",
       "..              ...      ...            ...  \n",
       "295               4    Lekki  Chevron Drive  \n",
       "296               5    Lekki  Chevron Drive  \n",
       "297               4    Lekki  Chevron Drive  \n",
       "298               3    Lekki          Ikota  \n",
       "299               5    Lekki  Chevron Drive  \n",
       "\n",
       "[300 rows x 8 columns]"
      ]
     },
     "execution_count": 23,
     "metadata": {},
     "output_type": "execute_result"
    }
   ],
   "source": [
    "data"
   ]
  },
  {
   "cell_type": "code",
   "execution_count": 24,
   "id": "1f68018e",
   "metadata": {},
   "outputs": [],
   "source": [
    "import re \n"
   ]
  },
  {
   "cell_type": "code",
   "execution_count": 25,
   "id": "f415afd4",
   "metadata": {},
   "outputs": [],
   "source": [
    "def extract_details(rep: str):\n",
    "    '''it extracts details from the description and it returns a string'''\n",
    "    word = r'Terrace|Terraces|Detached|Duplex|Mansion'\n",
    "    result = re.findall(word, rep, flags=re.I)\n",
    "    #convert to a string\n",
    "    result = \" \".join(result)\n",
    "    return result.title() #title case"
   ]
  },
  {
   "cell_type": "code",
   "execution_count": 26,
   "id": "e34bdb05",
   "metadata": {},
   "outputs": [],
   "source": [
    "# make a copy\n",
    "df = data.copy()"
   ]
  },
  {
   "cell_type": "code",
   "execution_count": 27,
   "id": "a0b83098",
   "metadata": {},
   "outputs": [
    {
     "data": {
      "text/plain": [
       "0              Terrace\n",
       "1              Terrace\n",
       "2       Terrace Duplex\n",
       "3              Terrace\n",
       "4             Detached\n",
       "            ...       \n",
       "295    Detached Duplex\n",
       "296    Detached Duplex\n",
       "297             Duplex\n",
       "298     Terrace Duplex\n",
       "299    Detached Duplex\n",
       "Name: Details, Length: 300, dtype: object"
      ]
     },
     "execution_count": 27,
     "metadata": {},
     "output_type": "execute_result"
    }
   ],
   "source": [
    "df['Details'] = df['description'].apply(extract_details)\n",
    "df['Details']"
   ]
  },
  {
   "cell_type": "code",
   "execution_count": 28,
   "id": "d9ae087f",
   "metadata": {
    "scrolled": true
   },
   "outputs": [
    {
     "data": {
      "text/plain": [
       "Detached Duplex     206\n",
       "Terrace Duplex       25\n",
       "Detached             22\n",
       "Terrace              22\n",
       "                     16\n",
       "Duplex                6\n",
       "Mansion               2\n",
       "Detached Terrace      1\n",
       "Name: Details, dtype: int64"
      ]
     },
     "execution_count": 28,
     "metadata": {},
     "output_type": "execute_result"
    }
   ],
   "source": [
    "df.Details.value_counts()"
   ]
  },
  {
   "cell_type": "code",
   "execution_count": 29,
   "id": "a5606be5",
   "metadata": {},
   "outputs": [
    {
     "data": {
      "text/html": [
       "<div>\n",
       "<style scoped>\n",
       "    .dataframe tbody tr th:only-of-type {\n",
       "        vertical-align: middle;\n",
       "    }\n",
       "\n",
       "    .dataframe tbody tr th {\n",
       "        vertical-align: top;\n",
       "    }\n",
       "\n",
       "    .dataframe thead th {\n",
       "        text-align: right;\n",
       "    }\n",
       "</style>\n",
       "<table border=\"1\" class=\"dataframe\">\n",
       "  <thead>\n",
       "    <tr style=\"text-align: right;\">\n",
       "      <th></th>\n",
       "      <th>Address</th>\n",
       "      <th>Amenities</th>\n",
       "      <th>description</th>\n",
       "      <th>price</th>\n",
       "      <th>bedroom</th>\n",
       "      <th>bathroom/toilet</th>\n",
       "      <th>location</th>\n",
       "      <th>Area</th>\n",
       "      <th>Details</th>\n",
       "    </tr>\n",
       "  </thead>\n",
       "  <tbody>\n",
       "    <tr>\n",
       "      <th>0</th>\n",
       "      <td>Lovojo Estate Lekki Schemes 2, Ajah</td>\n",
       "      <td>4 4</td>\n",
       "      <td>4 Units Of 4 Bedroom Terraces Smart House</td>\n",
       "      <td>N45,000,000</td>\n",
       "      <td>4</td>\n",
       "      <td>4</td>\n",
       "      <td>Ajah</td>\n",
       "      <td>Ajah</td>\n",
       "      <td>Terrace</td>\n",
       "    </tr>\n",
       "    <tr>\n",
       "      <th>1</th>\n",
       "      <td>Ogombo Road; Opposite Urban Prime Three, Abrah...</td>\n",
       "      <td>3 3</td>\n",
       "      <td>Classic 3 Bedroom Terrace House</td>\n",
       "      <td>N55,000,000</td>\n",
       "      <td>3</td>\n",
       "      <td>3</td>\n",
       "      <td>Ajah</td>\n",
       "      <td>Ajah</td>\n",
       "      <td>Terrace</td>\n",
       "    </tr>\n",
       "    <tr>\n",
       "      <th>2</th>\n",
       "      <td>Ajiwe Bus Stop, By Abraham Adesanya Roundabout...</td>\n",
       "      <td>2 2</td>\n",
       "      <td>Lovely 2 &amp; 3 Terrace Duplex With Bq</td>\n",
       "      <td>N38,000,000</td>\n",
       "      <td>2</td>\n",
       "      <td>2</td>\n",
       "      <td>Ajah</td>\n",
       "      <td>Ajah</td>\n",
       "      <td>Terrace Duplex</td>\n",
       "    </tr>\n",
       "    <tr>\n",
       "      <th>3</th>\n",
       "      <td>Lavadia Series 2, Ogombo, Ajah</td>\n",
       "      <td>3 3</td>\n",
       "      <td>3 Bedroom Terrace + Standard Bq</td>\n",
       "      <td>N65,000,000</td>\n",
       "      <td>3</td>\n",
       "      <td>3</td>\n",
       "      <td>Ajah</td>\n",
       "      <td>Ajah</td>\n",
       "      <td>Terrace</td>\n",
       "    </tr>\n",
       "    <tr>\n",
       "      <th>4</th>\n",
       "      <td>Banana Island, Ikoyi, Banana Island, Ikoyi</td>\n",
       "      <td>7 7 320 m² 600 m²</td>\n",
       "      <td>Luxuriously Built Waterfront Detached Home For...</td>\n",
       "      <td>N850,000,000</td>\n",
       "      <td>7</td>\n",
       "      <td>7</td>\n",
       "      <td>Ikoyi</td>\n",
       "      <td>Ikoyi</td>\n",
       "      <td>Detached</td>\n",
       "    </tr>\n",
       "    <tr>\n",
       "      <th>...</th>\n",
       "      <td>...</td>\n",
       "      <td>...</td>\n",
       "      <td>...</td>\n",
       "      <td>...</td>\n",
       "      <td>...</td>\n",
       "      <td>...</td>\n",
       "      <td>...</td>\n",
       "      <td>...</td>\n",
       "      <td>...</td>\n",
       "    </tr>\n",
       "    <tr>\n",
       "      <th>295</th>\n",
       "      <td>Buena Vista Estate Off Orchid Road, Chevron Dr...</td>\n",
       "      <td>4 4</td>\n",
       "      <td>Four (4) bedroom fully detached duplex with a ...</td>\n",
       "      <td>N75,000,000</td>\n",
       "      <td>4</td>\n",
       "      <td>4</td>\n",
       "      <td>Lekki</td>\n",
       "      <td>Chevron Drive</td>\n",
       "      <td>Detached Duplex</td>\n",
       "    </tr>\n",
       "    <tr>\n",
       "      <th>296</th>\n",
       "      <td>Chevron Drive, Lekki</td>\n",
       "      <td>5 5</td>\n",
       "      <td>5 Bedrooms Fully Detached Duplex with BQ for s...</td>\n",
       "      <td>N160,000,000</td>\n",
       "      <td>5</td>\n",
       "      <td>5</td>\n",
       "      <td>Lekki</td>\n",
       "      <td>Chevron Drive</td>\n",
       "      <td>Detached Duplex</td>\n",
       "    </tr>\n",
       "    <tr>\n",
       "      <th>297</th>\n",
       "      <td>Behind Chevron Head Office Lekki, Chevron Driv...</td>\n",
       "      <td>4 4</td>\n",
       "      <td>Brand New 4 Bedroom Duplex With Driveway</td>\n",
       "      <td>N85,000,000</td>\n",
       "      <td>4</td>\n",
       "      <td>4</td>\n",
       "      <td>Lekki</td>\n",
       "      <td>Chevron Drive</td>\n",
       "      <td>Duplex</td>\n",
       "    </tr>\n",
       "    <tr>\n",
       "      <th>298</th>\n",
       "      <td>Megamond Estate, Ikota, Lekki</td>\n",
       "      <td>3 3</td>\n",
       "      <td>3 Bedroom Terrace Duplex With Bq</td>\n",
       "      <td>N50,000,000</td>\n",
       "      <td>3</td>\n",
       "      <td>3</td>\n",
       "      <td>Lekki</td>\n",
       "      <td>Ikota</td>\n",
       "      <td>Terrace Duplex</td>\n",
       "    </tr>\n",
       "    <tr>\n",
       "      <th>299</th>\n",
       "      <td>Chevyview Estate, Chevron Drive, Lekki</td>\n",
       "      <td>5 5</td>\n",
       "      <td>Spacious 5 Bedroom Fully Detached Duplex with ...</td>\n",
       "      <td>N83,000,000</td>\n",
       "      <td>5</td>\n",
       "      <td>5</td>\n",
       "      <td>Lekki</td>\n",
       "      <td>Chevron Drive</td>\n",
       "      <td>Detached Duplex</td>\n",
       "    </tr>\n",
       "  </tbody>\n",
       "</table>\n",
       "<p>300 rows × 9 columns</p>\n",
       "</div>"
      ],
      "text/plain": [
       "                                               Address          Amenities  \\\n",
       "0                  Lovojo Estate Lekki Schemes 2, Ajah                4 4   \n",
       "1    Ogombo Road; Opposite Urban Prime Three, Abrah...                3 3   \n",
       "2    Ajiwe Bus Stop, By Abraham Adesanya Roundabout...                2 2   \n",
       "3                       Lavadia Series 2, Ogombo, Ajah                3 3   \n",
       "4           Banana Island, Ikoyi, Banana Island, Ikoyi  7 7 320 m² 600 m²   \n",
       "..                                                 ...                ...   \n",
       "295  Buena Vista Estate Off Orchid Road, Chevron Dr...                4 4   \n",
       "296                               Chevron Drive, Lekki                5 5   \n",
       "297  Behind Chevron Head Office Lekki, Chevron Driv...                4 4   \n",
       "298                      Megamond Estate, Ikota, Lekki                3 3   \n",
       "299             Chevyview Estate, Chevron Drive, Lekki                5 5   \n",
       "\n",
       "                                           description         price bedroom  \\\n",
       "0            4 Units Of 4 Bedroom Terraces Smart House   N45,000,000       4   \n",
       "1                      Classic 3 Bedroom Terrace House   N55,000,000       3   \n",
       "2                  Lovely 2 & 3 Terrace Duplex With Bq   N38,000,000       2   \n",
       "3                      3 Bedroom Terrace + Standard Bq   N65,000,000       3   \n",
       "4    Luxuriously Built Waterfront Detached Home For...  N850,000,000       7   \n",
       "..                                                 ...           ...     ...   \n",
       "295  Four (4) bedroom fully detached duplex with a ...   N75,000,000       4   \n",
       "296  5 Bedrooms Fully Detached Duplex with BQ for s...  N160,000,000       5   \n",
       "297           Brand New 4 Bedroom Duplex With Driveway   N85,000,000       4   \n",
       "298                   3 Bedroom Terrace Duplex With Bq   N50,000,000       3   \n",
       "299  Spacious 5 Bedroom Fully Detached Duplex with ...   N83,000,000       5   \n",
       "\n",
       "    bathroom/toilet location           Area          Details  \n",
       "0                 4     Ajah           Ajah          Terrace  \n",
       "1                 3     Ajah           Ajah          Terrace  \n",
       "2                 2     Ajah           Ajah   Terrace Duplex  \n",
       "3                 3     Ajah           Ajah          Terrace  \n",
       "4                 7    Ikoyi          Ikoyi         Detached  \n",
       "..              ...      ...            ...              ...  \n",
       "295               4    Lekki  Chevron Drive  Detached Duplex  \n",
       "296               5    Lekki  Chevron Drive  Detached Duplex  \n",
       "297               4    Lekki  Chevron Drive           Duplex  \n",
       "298               3    Lekki          Ikota   Terrace Duplex  \n",
       "299               5    Lekki  Chevron Drive  Detached Duplex  \n",
       "\n",
       "[300 rows x 9 columns]"
      ]
     },
     "execution_count": 29,
     "metadata": {},
     "output_type": "execute_result"
    }
   ],
   "source": [
    "df"
   ]
  },
  {
   "cell_type": "markdown",
   "id": "bcc82117",
   "metadata": {},
   "source": [
    "# Artifical Neural Networks"
   ]
  },
  {
   "cell_type": "code",
   "execution_count": null,
   "id": "e188ebdc",
   "metadata": {},
   "outputs": [],
   "source": [
    "X = df.iloc[:, :-1].values\n",
    "Y = df.iloc[:, -1].values"
   ]
  },
  {
   "cell_type": "code",
   "execution_count": null,
   "id": "6baead8a",
   "metadata": {},
   "outputs": [],
   "source": [
    "from sklearn.model_selection import train_test_split\n",
    "X_train, X_test, Y_train, Y_test = train_test_split(X, Y, test_size = 0.3, random_state=101)"
   ]
  },
  {
   "cell_type": "code",
   "execution_count": null,
   "id": "68e83b83",
   "metadata": {},
   "outputs": [],
   "source": [
    "mean = X_train.mean(axis=0)\n",
    "X_train-= mean\n",
    "std = X_train.std(axis=0)\n",
    "X_train /= std\n",
    "\n",
    "X_test -= mean\n",
    "X_test -= std"
   ]
  },
  {
   "cell_type": "code",
   "execution_count": null,
   "id": "b10b2fcb",
   "metadata": {},
   "outputs": [],
   "source": [
    "import tensorflow as tf\n",
    "\n",
    "ann = tf.keras.models.Sequential()\n",
    "ann.add(tf.keras.layers.Dense(units=6, activation='relu'))\n",
    "ann.add(tf.keras.layers.Dense(units=6, activation='relu'))\n",
    "ann.add(tf.keras.layers.Dense(units=1, activation='sigmoid'))\n",
    "ann.compile(optimizer = 'adam', loss = 'binary_crossentropy', metrics= ['accuracy'])\n"
   ]
  },
  {
   "cell_type": "code",
   "execution_count": null,
   "id": "c7ba5d38",
   "metadata": {},
   "outputs": [],
   "source": [
    "ann.fit(X_train, Y_train, batch_size = 10, epochs=100)"
   ]
  },
  {
   "cell_type": "code",
   "execution_count": null,
   "id": "fd940978",
   "metadata": {},
   "outputs": [],
   "source": [
    "Y_pred = ann.predict(X_test)\n",
    "Y_pred = (Y_pred > 0.5)\n",
    "print(np.concatenate((Y_pred.reshape(len(Y_pred),1), Y_test.reshape(len(Y_test),1)),1))"
   ]
  },
  {
   "cell_type": "code",
   "execution_count": null,
   "id": "2dacb8c3",
   "metadata": {},
   "outputs": [],
   "source": [
    "from sklearn.metrics import confusion_matrix, accuracy_score\n",
    "cm = confusion_matrix(Y_test, Y_pred)\n",
    "print(cm)\n",
    "accuracy_score(Y_test, Y_pred)"
   ]
  }
 ],
 "metadata": {
  "kernelspec": {
   "display_name": "Python 3",
   "language": "python",
   "name": "python3"
  },
  "language_info": {
   "codemirror_mode": {
    "name": "ipython",
    "version": 3
   },
   "file_extension": ".py",
   "mimetype": "text/x-python",
   "name": "python",
   "nbconvert_exporter": "python",
   "pygments_lexer": "ipython3",
   "version": "3.7.10"
  }
 },
 "nbformat": 4,
 "nbformat_minor": 5
}
