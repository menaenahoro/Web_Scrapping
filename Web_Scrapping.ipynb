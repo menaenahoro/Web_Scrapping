{
 "cells": [
  {
   "cell_type": "code",
   "execution_count": 1,
   "id": "fef74026",
   "metadata": {
    "scrolled": false
   },
   "outputs": [
    {
     "name": "stdout",
     "output_type": "stream",
     "text": [
      "Collecting package metadata (current_repodata.json): done\n",
      "Solving environment: done\n",
      "\n",
      "## Package Plan ##\n",
      "\n",
      "  environment location: //anaconda3/envs/new2\n",
      "\n",
      "  added / updated specs:\n",
      "    - selenium\n",
      "\n",
      "\n",
      "The following packages will be downloaded:\n",
      "\n",
      "    package                    |            build\n",
      "    ---------------------------|-----------------\n",
      "    ca-certificates-2021.5.25  |       hecd8cb5_1         111 KB\n",
      "    selenium-3.141.0           |py37h9ed2024_1000         816 KB\n",
      "    ------------------------------------------------------------\n",
      "                                           Total:         928 KB\n",
      "\n",
      "The following NEW packages will be INSTALLED:\n",
      "\n",
      "  selenium           pkgs/main/osx-64::selenium-3.141.0-py37h9ed2024_1000\n",
      "\n",
      "The following packages will be UPDATED:\n",
      "\n",
      "  ca-certificates                      2021.4.13-hecd8cb5_1 --> 2021.5.25-hecd8cb5_1\n",
      "\n",
      "\n",
      "\n",
      "Downloading and Extracting Packages\n",
      "selenium-3.141.0     | 816 KB    | ##################################### | 100% \n",
      "ca-certificates-2021 | 111 KB    | ##################################### | 100% \n",
      "Preparing transaction: done\n",
      "Verifying transaction: done\n",
      "Executing transaction: done\n",
      "\n",
      "Note: you may need to restart the kernel to use updated packages.\n"
     ]
    }
   ],
   "source": [
    "# Installing selenium on Anaconda\n",
    "conda install selenium"
   ]
  },
  {
   "cell_type": "code",
   "execution_count": 1,
   "id": "04b0f9a3",
   "metadata": {},
   "outputs": [
    {
     "name": "stdout",
     "output_type": "stream",
     "text": [
      "Collecting package metadata (current_repodata.json): done\n",
      "Solving environment: done\n",
      "\n",
      "## Package Plan ##\n",
      "\n",
      "  environment location: //anaconda3/envs/new2\n",
      "\n",
      "  added / updated specs:\n",
      "    - bs4\n",
      "\n",
      "\n",
      "The following packages will be downloaded:\n",
      "\n",
      "    package                    |            build\n",
      "    ---------------------------|-----------------\n",
      "    bs4-4.9.3                  |       hd3eb1b0_0           4 KB\n",
      "    certifi-2021.5.30          |   py37hecd8cb5_0         139 KB\n",
      "    ------------------------------------------------------------\n",
      "                                           Total:         143 KB\n",
      "\n",
      "The following NEW packages will be INSTALLED:\n",
      "\n",
      "  beautifulsoup4     pkgs/main/noarch::beautifulsoup4-4.9.3-pyha847dfd_0\n",
      "  bs4                pkgs/main/noarch::bs4-4.9.3-hd3eb1b0_0\n",
      "  soupsieve          pkgs/main/noarch::soupsieve-2.2.1-pyhd3eb1b0_0\n",
      "\n",
      "The following packages will be UPDATED:\n",
      "\n",
      "  certifi                          2020.12.5-py37hecd8cb5_0 --> 2021.5.30-py37hecd8cb5_0\n",
      "\n",
      "\n",
      "\n",
      "Downloading and Extracting Packages\n",
      "bs4-4.9.3            | 4 KB      | ##################################### | 100% \n",
      "certifi-2021.5.30    | 139 KB    | ##################################### | 100% \n",
      "Preparing transaction: done\n",
      "Verifying transaction: done\n",
      "Executing transaction: done\n",
      "\n",
      "Note: you may need to restart the kernel to use updated packages.\n"
     ]
    }
   ],
   "source": [
    "# Installing beautiful soup on Anaconda\n",
    "conda install bs4"
   ]
  },
  {
   "cell_type": "code",
   "execution_count": 1,
   "id": "b2f2d361",
   "metadata": {},
   "outputs": [],
   "source": [
    "# Importing the necessary library and classes \n",
    "from selenium import webdriver\n",
    "\n",
    "from selenium.webdriver.common.keys import Keys\n",
    "'''to get access to enter, escape keys and some extra keys to \n",
    "enable type something in the search bar and the hit enter for viewing the search result''' \n",
    "\n",
    "from selenium.webdriver.common.by import By\n",
    "from selenium.webdriver.support.ui import WebDriverWait\n",
    "from selenium.webdriver.support import expected_conditions as EC\n",
    "\n",
    "import time"
   ]
  },
  {
   "cell_type": "code",
   "execution_count": null,
   "id": "ec4c251e",
   "metadata": {},
   "outputs": [],
   "source": [
    "\n",
    "PATH = \"/Users/enahoro/Documents/chromedriver\"\n",
    "'''The above path is the absolute path to chrome driver which was downloaded'''\n",
    "\n",
    "driver = webdriver.Chrome(PATH)\n",
    "'''Initializing our webdriver to chrome, in order to automate chrome'''  \n",
    "\n",
    "driver.get(\"https://www.privateproperty.com.ng/property-for-sale/lagos\")\n",
    "'''Directing webdriver to get the web address'''\n",
    "\n",
    "time.sleep(10)\n",
    "\n",
    "drop_search = driver.find_element(By.XPATH, \"/html/body/div[2]/div[10]/div[3]/div[1]/div[6]\")\n",
    "'''Directing driver to search for a particular xpath'''\n",
    "#The xpath displayed is for the search results of Lagos\n",
    "''' we can use find_elements_by_name, by_xpath, by_id, by_class_name, \n",
    "by_css_selector, by_link_text, by_partial_link_text, \n",
    "find_element_by_name, by_xpath, by_id, by_css_selector, by_class_name, \n",
    "by_link_text, by_tag_name, by_partial_link_text'''\n",
    "\n",
    "\n",
    "for value in drop_search:\n",
    "    print(value.text)\n",
    "    \n",
    "print(\"======\"*20)\n",
    "\n",
    "\n",
    "driver.quit()"
   ]
  },
  {
   "cell_type": "code",
   "execution_count": null,
   "id": "01902b99",
   "metadata": {},
   "outputs": [],
   "source": [
    "PATH = \"/Users/enahoro/Documents/chromedriver\"\n",
    "\n",
    "driver = webdriver.Chrome(PATH)\n",
    "\n",
    "driver.get(\"https://www.privateproperty.com.ng/property-for-sale/lagos\")\n",
    "\n",
    "time.sleep(10)\n",
    "\n",
    "drop_search = driver.find_element(By.XPATH, \"/html/body/div[2]/div[10]/div[3]/div[1]/div[6]\")\n",
    "\n",
    "prices = drop_search.find_elements(By.XPATH, \"//*[contains(concat( ' ', @class, ' ' ), concat( ' ', 'item-price', ' ' ))]\")\n",
    "'''Directing driver to pick the xpath of the prices in the search result'''\n",
    "for value in prices:\n",
    "        print(value.text)\n",
    "    \n",
    "print(\"======\"*20)\n",
    "\n",
    "addresses= drop_search.find_elements(By.XPATH,\"//*[contains(concat( ' ', @class, ' ' ), concat( ' ', 'overflow-ellipse-mobile', ' ' ))]\")\n",
    "'''Directing driver to pick the xpath of the addresses in the search result'''\n",
    "for value in addresses:\n",
    "    print(value.text)\n",
    "\n",
    "print(\"======\"*20)\n",
    "\n",
    "\n",
    "driver.quit()"
   ]
  },
  {
   "cell_type": "code",
   "execution_count": null,
   "id": "10415f92",
   "metadata": {},
   "outputs": [],
   "source": [
    "def Get_info(ament, price, address, descrip):\n",
    "        \n",
    "    PATH = \"/Users/enahoro/Documents/chromedriver\"\n",
    "        \n",
    "    driver = webdriver.Chrome(PATH)\n",
    "        \n",
    "    driver.get(\"https://www.privateproperty.com.ng/property-for-sale/lagos\")\n",
    "        \n",
    "    time.sleep(10)\n",
    "        \n",
    "    houses = driver.find_element(By.XPATH,\"/html/body/div[2]/div[10]/div[3]/div[2]/div[2]/div[1]/div[1]/ul/li[1]/a\")\n",
    "    houses.send_keys(Keys.ENTER)\n",
    "    \n",
    "    k=1\n",
    "    while k<13:\n",
    "        drop_search = driver.find_element(By.XPATH, \"/html/body/div[2]/div[10]/div[3]/div[1]/div[6]\")\n",
    "        \n",
    "        time.sleep(5)\n",
    "        \n",
    "        amenities= drop_search.find_elements(By.XPATH,\"//*[contains(concat( ' ', @class, ' ' ), concat( ' ', 'amenities', ' ' ))]//p\")\n",
    "        '''Directing driver to pick the xpath of the amenities in the search result'''\n",
    "        for value in amenities:\n",
    "            ament.append(value.text)\n",
    "        \n",
    "        time.sleep(5)\n",
    "        \n",
    "        prices = drop_search.find_elements(By.XPATH, \"//*[contains(concat( ' ', @class, ' ' ), concat( ' ', 'item-price', ' ' ))]\")\n",
    "        '''Directing driver to pick the xpath of the prices in the search result'''\n",
    "        for value in prices:\n",
    "            price.append(value.text)\n",
    "\n",
    "        time.sleep(5)\n",
    "        \n",
    "        addresses= drop_search.find_elements(By.XPATH,\"//*[contains(concat( ' ', @class, ' ' ), concat( ' ', 'overflow-ellipse-mobile', ' ' ))]\")\n",
    "        '''Directing driver to pick the xpath of the addresses in the search result'''\n",
    "        for value in addresses:\n",
    "            address.append(value.text)\n",
    "        \n",
    "        time.sleep(5)\n",
    "        \n",
    "        description = drop_search.find_elements(By.XPATH, \"//*[contains(concat( ' ', @class, ' ' ), concat( ' ', 'property-title', ' ' ))]//a\")\n",
    "        '''Directing driver to pick the xpath of the descriptions in the search result'''\n",
    "        for value in description:\n",
    "            descrip.append(value.text)\n",
    "\n",
    "\n",
    "        \n",
    "        time.sleep(10)\n",
    "        \n",
    "        next_page = driver.find_element(By.XPATH,\"/html/body/div[2]/div[10]/div[3]/div[1]/div[7]/nav/ul/li[9]/a/span[1]/i\")\n",
    "        driver.execute_script(\"arguments[0].click();\", next_page)\n",
    "        '''Directing driver to find the xpath of the next button and click on it'''\n",
    "        # For going to the next page\n",
    "\n",
    "        k+=1"
   ]
  },
  {
   "cell_type": "code",
   "execution_count": 7,
   "id": "3462f4eb",
   "metadata": {},
   "outputs": [],
   "source": [
    "amenities = []\n",
    "prices = []\n",
    "addresses = []\n",
    "description = []\n",
    "\n",
    "Get_info(amenities, prices, addresses, description)"
   ]
  },
  {
   "cell_type": "code",
   "execution_count": 8,
   "id": "c879d59d",
   "metadata": {},
   "outputs": [],
   "source": [
    "data = {\"Address\": addresses, \"Amenities\": amenities, \"description\": description, \"price\": prices}"
   ]
  },
  {
   "cell_type": "code",
   "execution_count": 10,
   "id": "0833c15b",
   "metadata": {},
   "outputs": [],
   "source": [
    "import pandas as pd\n",
    "web_scrp_data = pd.DataFrame.from_dict(data)\n",
    "web_scrp_data.to_csv('web_scrp_data.csv')"
   ]
  },
  {
   "cell_type": "code",
   "execution_count": 13,
   "id": "d0013509",
   "metadata": {
    "scrolled": true
   },
   "outputs": [
    {
     "data": {
      "text/html": [
       "<div>\n",
       "<style scoped>\n",
       "    .dataframe tbody tr th:only-of-type {\n",
       "        vertical-align: middle;\n",
       "    }\n",
       "\n",
       "    .dataframe tbody tr th {\n",
       "        vertical-align: top;\n",
       "    }\n",
       "\n",
       "    .dataframe thead th {\n",
       "        text-align: right;\n",
       "    }\n",
       "</style>\n",
       "<table border=\"1\" class=\"dataframe\">\n",
       "  <thead>\n",
       "    <tr style=\"text-align: right;\">\n",
       "      <th></th>\n",
       "      <th>Address</th>\n",
       "      <th>Amenities</th>\n",
       "      <th>description</th>\n",
       "      <th>price</th>\n",
       "    </tr>\n",
       "  </thead>\n",
       "  <tbody>\n",
       "    <tr>\n",
       "      <th>0</th>\n",
       "      <td>Lovojo Estate Lekki Schemes 2, Ajah</td>\n",
       "      <td>4 4</td>\n",
       "      <td>4 Units Of 4 Bedroom Terraces Smart House</td>\n",
       "      <td>N45,000,000</td>\n",
       "    </tr>\n",
       "    <tr>\n",
       "      <th>1</th>\n",
       "      <td>Ogombo Road; Opposite Urban Prime Three, Abrah...</td>\n",
       "      <td>3 3</td>\n",
       "      <td>Classic 3 Bedroom Terrace House</td>\n",
       "      <td>N55,000,000</td>\n",
       "    </tr>\n",
       "    <tr>\n",
       "      <th>2</th>\n",
       "      <td>Ajiwe Bus Stop, By Abraham Adesanya Roundabout...</td>\n",
       "      <td>2 2</td>\n",
       "      <td>Lovely 2 &amp; 3 Terrace Duplex With Bq</td>\n",
       "      <td>N38,000,000</td>\n",
       "    </tr>\n",
       "    <tr>\n",
       "      <th>3</th>\n",
       "      <td>Lavadia Series 2, Ogombo, Ajah</td>\n",
       "      <td>3 3</td>\n",
       "      <td>3 Bedroom Terrace + Standard Bq</td>\n",
       "      <td>N65,000,000</td>\n",
       "    </tr>\n",
       "    <tr>\n",
       "      <th>4</th>\n",
       "      <td>Banana Island, Ikoyi, Banana Island, Ikoyi</td>\n",
       "      <td>7 7 320 m² 600 m²</td>\n",
       "      <td>Luxuriously Built Waterfront Detached Home For...</td>\n",
       "      <td>N850,000,000</td>\n",
       "    </tr>\n",
       "  </tbody>\n",
       "</table>\n",
       "</div>"
      ],
      "text/plain": [
       "                                             Address          Amenities  \\\n",
       "0                Lovojo Estate Lekki Schemes 2, Ajah                4 4   \n",
       "1  Ogombo Road; Opposite Urban Prime Three, Abrah...                3 3   \n",
       "2  Ajiwe Bus Stop, By Abraham Adesanya Roundabout...                2 2   \n",
       "3                     Lavadia Series 2, Ogombo, Ajah                3 3   \n",
       "4         Banana Island, Ikoyi, Banana Island, Ikoyi  7 7 320 m² 600 m²   \n",
       "\n",
       "                                         description         price  \n",
       "0          4 Units Of 4 Bedroom Terraces Smart House   N45,000,000  \n",
       "1                    Classic 3 Bedroom Terrace House   N55,000,000  \n",
       "2                Lovely 2 & 3 Terrace Duplex With Bq   N38,000,000  \n",
       "3                    3 Bedroom Terrace + Standard Bq   N65,000,000  \n",
       "4  Luxuriously Built Waterfront Detached Home For...  N850,000,000  "
      ]
     },
     "execution_count": 13,
     "metadata": {},
     "output_type": "execute_result"
    }
   ],
   "source": [
    "df = pd.read_csv(\"web_scrp_data.csv\", index_col=0)\n",
    "df.head()"
   ]
  },
  {
   "cell_type": "code",
   "execution_count": 15,
   "id": "0121ca5d",
   "metadata": {
    "scrolled": true
   },
   "outputs": [
    {
     "data": {
      "text/plain": [
       "(300, 4)"
      ]
     },
     "execution_count": 15,
     "metadata": {},
     "output_type": "execute_result"
    }
   ],
   "source": [
    "df.shape"
   ]
  },
  {
   "cell_type": "code",
   "execution_count": 20,
   "id": "4d63de58",
   "metadata": {},
   "outputs": [
    {
     "data": {
      "text/plain": [
       "4 Bedroom Detached Duplex                                                                          11\n",
       "5 bedroom detached duplex with BQ                                                                  10\n",
       "5 Bedroom Detached Duplex                                                                           7\n",
       "5 Bedroom Fully Detached Duplex + Bq                                                                5\n",
       "6 Bedroom Fully Detached Duplex with Swimming Pool, Cinema, Gym, Elevator and lots more             5\n",
       "                                                                                                   ..\n",
       "Well Finished 5 Bedroom Detached Duplex With Bq                                                     1\n",
       "Massive 5 Bedroom Detached Duplex With Lagoon View                                                  1\n",
       "Luxury 4 bedroom terrace duplex                                                                     1\n",
       "FOR SALE: 5 BEDROOM FULLY DETACHED DUPLEX WITH SWIMMING POOL AND CINEMA At Lekki Phase 1, Lagos     1\n",
       "Tastefully Finished 4 Bedroom Semi-detached Duplex                                                  1\n",
       "Name: description, Length: 186, dtype: int64"
      ]
     },
     "execution_count": 20,
     "metadata": {},
     "output_type": "execute_result"
    }
   ],
   "source": [
    "df.description.value_counts()"
   ]
  },
  {
   "cell_type": "code",
   "execution_count": null,
   "id": "8d0625dd",
   "metadata": {},
   "outputs": [],
   "source": []
  }
 ],
 "metadata": {
  "kernelspec": {
   "display_name": "Python 3",
   "language": "python",
   "name": "python3"
  },
  "language_info": {
   "codemirror_mode": {
    "name": "ipython",
    "version": 3
   },
   "file_extension": ".py",
   "mimetype": "text/x-python",
   "name": "python",
   "nbconvert_exporter": "python",
   "pygments_lexer": "ipython3",
   "version": "3.7.10"
  }
 },
 "nbformat": 4,
 "nbformat_minor": 5
}
